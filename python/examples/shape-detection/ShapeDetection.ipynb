{
  "nbformat": 4,
  "nbformat_minor": 0,
  "metadata": {
    "colab": {
      "name": "ShapeDetection.ipynb",
      "provenance": []
    },
    "kernelspec": {
      "name": "python3",
      "display_name": "Python 3"
    },
    "language_info": {
      "name": "python"
    }
  },
  "cells": [
    {
      "cell_type": "markdown",
      "metadata": {
        "id": "Z1pOUtySCiN5"
      },
      "source": [
        "The code is submitted by:\n",
        "> Ansh Gupta(@ansh422), on\n",
        "> 25/10/2021."
      ]
    },
    {
      "cell_type": "markdown",
      "metadata": {
        "id": "6yPDGq8w7BBR"
      },
      "source": [
        "## Import Libraries"
      ]
    },
    {
      "cell_type": "code",
      "metadata": {
        "id": "gskjPnfB1nFv"
      },
      "source": [
        "import cv2\n",
        "# We cannot use the function cv2.imshow to see our output in colab notebook so we use the following module\n",
        "from google.colab.patches import cv2_imshow"
      ],
      "execution_count": 13,
      "outputs": []
    },
    {
      "cell_type": "markdown",
      "metadata": {
        "id": "DdmSBsGy7ZWS"
      },
      "source": [
        "## Reading our Image"
      ]
    },
    {
      "cell_type": "code",
      "metadata": {
        "colab": {
          "base_uri": "https://localhost:8080/",
          "height": 477
        },
        "id": "Wbu_76sW62cW",
        "outputId": "53bcadff-1192-442d-e912-509e1bd61058"
      },
      "source": [
        "image=cv2.imread('FILE-LOCATION')\n",
        "cv2_imshow(image)"
      ],
      "execution_count": 29,
      "outputs": [
        {
          "output_type": "display_data",
          "data": {
            "image/png": "[encoded data removed]",
            "text/plain": [
              "<PIL.Image.Image image mode=RGB size=819x460 at 0x7F4D707CF050>"
            ]
          },
          "metadata": {}
        }
      ]
    },
    {
      "cell_type": "markdown",
      "metadata": {
        "id": "uy3hmtdd7X29"
      },
      "source": [
        "We can see that our image consists of various shape and our objective is to detect shapes here. We will use contours to detect our shape and draw them."
      ]
    },
    {
      "cell_type": "markdown",
      "metadata": {
        "id": "CkU6EAeC8RGy"
      },
      "source": [
        "## Processing"
      ]
    },
    {
      "cell_type": "code",
      "metadata": {
        "colab": {
          "base_uri": "https://localhost:8080/",
          "height": 477
        },
        "id": "6XjFmd-N8POs",
        "outputId": "47d919d9-eae0-4018-8b91-46b6e442664f"
      },
      "source": [
        "gray_image=cv2.cvtColor(image,cv2.COLOR_BGR2GRAY)\n",
        "cv2_imshow(gray_image)"
      ],
      "execution_count": 30,
      "outputs": [
        {
          "output_type": "display_data",
          "data": {
            "image/png": "[encoded data removed]",
            "text/plain": [
              "<PIL.Image.Image image mode=L size=819x460 at 0x7F4D7095E0D0>"
            ]
          },
          "metadata": {}
        }
      ]
    },
    {
      "cell_type": "markdown",
      "metadata": {
        "id": "29yg6ckg_Bae"
      },
      "source": [
        "First, we can apply a simple Binary threshold function that seperates our background with our contents of the gray image, i.e, shapes. From our threshold values, we can find our contour with the function cv2.findContours."
      ]
    },
    {
      "cell_type": "code",
      "metadata": {
        "id": "R0YQmclF7XiW"
      },
      "source": [
        "_, threshold = cv2.threshold(gray_image, 127, 255, cv2.THRESH_BINARY)\n",
        "contours, _ = cv2.findContours(threshold, cv2.RETR_TREE, cv2.CHAIN_APPROX_SIMPLE)"
      ],
      "execution_count": 31,
      "outputs": []
    },
    {
      "cell_type": "markdown",
      "metadata": {
        "id": "DAsxXvrn_zpP"
      },
      "source": [
        "Here, \n",
        "* cv2.THRESH_BINARY, indicates a simple binary threshold\n",
        "* cv2.RETR_TREE, returns all the possible contours and reconstructs a full hierachy of nested contours.\n",
        "* cv2.CHAIN_APPROX_SIMPLE, store only the number of end points.\n",
        "\n",
        "You can learn more about the above two methods from:\n",
        "> * [cv2.threshold](https://docs.opencv.org/3.4.15/db/d8e/tutorial_threshold.html) \n",
        "> * [cv2.findContours](https://docs.opencv.org/4.5.3/d3/dc0/group__imgproc__shape.html#gadf1ad6a0b82947fa1fe3c3d497f260e0) "
      ]
    },
    {
      "cell_type": "markdown",
      "metadata": {
        "id": "MlWyxiqRBvMP"
      },
      "source": [
        "On plotting our contours, we can see that we have successfully found the shapes in our images ( shown as black boundary)"
      ]
    },
    {
      "cell_type": "code",
      "metadata": {
        "colab": {
          "base_uri": "https://localhost:8080/",
          "height": 477
        },
        "id": "tP3p5C3M9gtS",
        "outputId": "b3989434-50dd-4dc8-80c3-f4854442b599"
      },
      "source": [
        "cv2.drawContours(image,contours,-1,(0,0,0),2)\n",
        "cv2_imshow(image)"
      ],
      "execution_count": 32,
      "outputs": [
        {
          "output_type": "display_data",
          "data": {
            "image/png": "[encoded data removed]",
            "text/plain": [
              "<PIL.Image.Image image mode=RGB size=819x460 at 0x7F4D7084DDD0>"
            ]
          },
          "metadata": {}
        }
      ]
    },
    {
      "cell_type": "markdown",
      "metadata": {
        "id": "XagCsTU9CMdy"
      },
      "source": [
        "For more information on drawContours function, you can check\n",
        "> [cv2.drawContours](https://docs.opencv.org/4.5.3/d6/d6e/group__imgproc__draw.html#ga746c0625f1781f1ffc9056259103edbc)"
      ]
    }
  ]
}